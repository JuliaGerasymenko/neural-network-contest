{
 "cells": [
  {
   "cell_type": "code",
   "execution_count": 1,
   "metadata": {
    "id": "K873nADaKkNm"
   },
   "outputs": [],
   "source": [
    "import os\n",
    "from collections import defaultdict\n",
    "import pandas as pd\n",
    "import numpy as np\n",
    "import matplotlib.pyplot as plt\n",
    "%matplotlib inline"
   ]
  },
  {
   "cell_type": "code",
   "execution_count": 2,
   "metadata": {
    "colab": {
     "base_uri": "https://localhost:8080/"
    },
    "id": "nOId116KKkNn",
    "outputId": "35bf132d-8cfd-4227-96f0-c21e88e302aa"
   },
   "outputs": [
    {
     "name": "stdout",
     "output_type": "stream",
     "text": [
      "Defaulting to user installation because normal site-packages is not writeable\n",
      "Requirement already satisfied: pandas in /home/julia/.local/lib/python3.8/site-packages (1.1.5)\n",
      "Requirement already satisfied: pytz>=2017.2 in /usr/lib/python3.8/site-packages (from pandas) (2020.4)\n",
      "Requirement already satisfied: python-dateutil>=2.7.3 in /usr/lib/python3.8/site-packages (from pandas) (2.8.1)\n",
      "Requirement already satisfied: numpy>=1.15.4 in /usr/lib/python3.8/site-packages (from pandas) (1.19.4)\n",
      "Requirement already satisfied: six>=1.5 in /home/julia/.local/lib/python3.8/site-packages (from python-dateutil>=2.7.3->pandas) (1.15.0)\n"
     ]
    }
   ],
   "source": [
    "!pip install pandas"
   ]
  },
  {
   "cell_type": "code",
   "execution_count": null,
   "metadata": {},
   "outputs": [],
   "source": [
    "!pip install imblearn"
   ]
  },
  {
   "cell_type": "code",
   "execution_count": null,
   "metadata": {
    "id": "iXyoio5hKkNo"
   },
   "outputs": [],
   "source": [
    "import warnings\n",
    "warnings.filterwarnings('ignore')"
   ]
  },
  {
   "cell_type": "markdown",
   "metadata": {
    "id": "wZ-QvNE-KkNo"
   },
   "source": [
    "## Reading and processing dataset "
   ]
  },
  {
   "cell_type": "code",
   "execution_count": null,
   "metadata": {
    "id": "6GVhO6b9KkNo"
   },
   "outputs": [],
   "source": [
    "dataset_root = '/home/julia/Downloads/NSL_KDD-master'"
   ]
  },
  {
   "cell_type": "code",
   "execution_count": null,
   "metadata": {
    "id": "R2EXDIamKkNo"
   },
   "outputs": [],
   "source": [
    "train_file = os.path.join(dataset_root, 'KDDTrain_Modify_v2.1.csv')\n",
    "test_file = os.path.join(dataset_root, 'KDDTest_Modify_v2.1.csv')\n",
    "names_file = os.path.join(dataset_root, 'Field Names.csv')\n"
   ]
  },
  {
   "cell_type": "code",
   "execution_count": null,
   "metadata": {
    "id": "aRHM4mrZKkNp"
   },
   "outputs": [],
   "source": [
    "header_names = ['duration', 'protocol_type', 'service', 'node_number', 'cluster_number','flag', 'src_bytes', 'dst_bytes', 'land', 'wrong_fragment', 'urgent', 'hot', 'num_failed_logins', 'logged_in', 'num_compromised', 'root_shell', 'su_attempted', 'num_root', 'num_file_creations', 'num_shells', 'num_access_files', 'num_outbound_cmds', 'is_host_login', 'is_guest_login', 'count', 'srv_count', 'serror_rate', 'srv_serror_rate', 'rerror_rate', 'srv_rerror_rate', 'same_srv_rate', 'diff_srv_rate', 'srv_diff_host_rate', 'dst_host_count', 'dst_host_srv_count', 'dst_host_same_srv_rate', 'dst_host_diff_srv_rate', 'dst_host_same_src_port_rate', 'dst_host_srv_diff_host_rate', 'dst_host_serror_rate', 'dst_host_srv_serror_rate', 'dst_host_rerror_rate', 'dst_host_srv_rerror_rate', 'attack_type', 'success_pred']"
   ]
  },
  {
   "cell_type": "code",
   "execution_count": null,
   "metadata": {
    "id": "PTjnJkZPKkNp",
    "outputId": "17d2e04b-a604-42e9-e0b5-c407eda63ed4"
   },
   "outputs": [],
   "source": [
    "len(['duration', 'protocol_type', 'service', 'flag', 'src_bytes', 'dst_bytes', 'land', 'wrong_fragment', 'urgent', 'hot', 'num_failed_logins', 'logged_in', 'num_compromised', 'root_shell', 'su_attempted', 'num_root', 'num_file_creations', 'num_shells', 'num_access_files', 'num_outbound_cmds', 'is_host_login', 'is_guest_login', 'count', 'srv_count', 'serror_rate', 'srv_serror_rate', 'rerror_rate', 'srv_rerror_rate', 'same_srv_rate', 'diff_srv_rate', 'srv_diff_host_rate', 'dst_host_count', 'dst_host_srv_count', 'dst_host_same_srv_rate', 'dst_host_diff_srv_rate', 'dst_host_same_src_port_rate', 'dst_host_srv_diff_host_rate', 'dst_host_serror_rate', 'dst_host_srv_serror_rate', 'dst_host_rerror_rate', 'dst_host_srv_rerror_rate', 'attack_type', 'success_pred'])"
   ]
  },
  {
   "cell_type": "code",
   "execution_count": null,
   "metadata": {
    "id": "3GuDtKC_KkNq"
   },
   "outputs": [],
   "source": [
    "# Differentiating between nominal, binary, and numeric features\n",
    "\n",
    "# root_shell is marked as a continuous feature in the kddcup.names \n",
    "# file, but it is supposed to be a binary feature according to the \n",
    "# dataset documentation\n",
    "\n",
    "col_names = np.array(header_names)\n",
    "\n",
    "nominal_idx = [1, 2, 3, 4, 5]\n",
    "binary_idx = [8, 13, 15, 16, 22, 23]\n",
    "numeric_idx = list(set(range(43)).difference(nominal_idx).difference(binary_idx))\n",
    "\n",
    "nominal_cols = col_names[nominal_idx].tolist()\n",
    "binary_cols = col_names[binary_idx].tolist()\n",
    "numeric_cols = col_names[numeric_idx].tolist()"
   ]
  },
  {
   "cell_type": "code",
   "execution_count": null,
   "metadata": {
    "id": "5ekLvVXTKkNq"
   },
   "outputs": [],
   "source": [
    "category = defaultdict(list)\n",
    "category['benign'].append('normal')"
   ]
  },
  {
   "cell_type": "markdown",
   "metadata": {
    "id": "3VVzvoVPKkNq"
   },
   "source": [
    "## Generating and analyzing train and test sets"
   ]
  },
  {
   "cell_type": "code",
   "execution_count": null,
   "metadata": {
    "id": "CrarUYv3KkNq"
   },
   "outputs": [],
   "source": [
    "train_df = pd.read_csv(train_file, names=header_names, sep=';') \n",
    "test_df = pd.read_csv(test_file, names=header_names, sep=';')"
   ]
  },
  {
   "cell_type": "code",
   "execution_count": 13,
   "metadata": {
    "id": "jUA_JOxFKkNq"
   },
   "outputs": [],
   "source": [
    "test_attack_types = test_df['dst_host_rerror_rate'].value_counts()\n",
    "test_attack_cats = test_df['dst_host_rerror_rate'].value_counts()"
   ]
  },
  {
   "cell_type": "code",
   "execution_count": 14,
   "metadata": {
    "id": "JZWcyxSgKkNr",
    "outputId": "636190c5-696f-4c4f-a016-5c43ef9daee7"
   },
   "outputs": [
    {
     "data": {
      "text/html": [
       "<div>\n",
       "<style scoped>\n",
       "    .dataframe tbody tr th:only-of-type {\n",
       "        vertical-align: middle;\n",
       "    }\n",
       "\n",
       "    .dataframe tbody tr th {\n",
       "        vertical-align: top;\n",
       "    }\n",
       "\n",
       "    .dataframe thead th {\n",
       "        text-align: right;\n",
       "    }\n",
       "</style>\n",
       "<table border=\"1\" class=\"dataframe\">\n",
       "  <thead>\n",
       "    <tr style=\"text-align: right;\">\n",
       "      <th></th>\n",
       "      <th>count</th>\n",
       "      <th>mean</th>\n",
       "      <th>std</th>\n",
       "      <th>min</th>\n",
       "      <th>25%</th>\n",
       "      <th>50%</th>\n",
       "      <th>75%</th>\n",
       "      <th>max</th>\n",
       "    </tr>\n",
       "  </thead>\n",
       "  <tbody>\n",
       "    <tr>\n",
       "      <th>land</th>\n",
       "      <td>125972.0</td>\n",
       "      <td>0.000198</td>\n",
       "      <td>0.014086</td>\n",
       "      <td>0.0</td>\n",
       "      <td>0.0</td>\n",
       "      <td>0.0</td>\n",
       "      <td>0.0</td>\n",
       "      <td>1.0</td>\n",
       "    </tr>\n",
       "    <tr>\n",
       "      <th>logged_in</th>\n",
       "      <td>125972.0</td>\n",
       "      <td>0.395739</td>\n",
       "      <td>0.489011</td>\n",
       "      <td>0.0</td>\n",
       "      <td>0.0</td>\n",
       "      <td>0.0</td>\n",
       "      <td>1.0</td>\n",
       "      <td>1.0</td>\n",
       "    </tr>\n",
       "    <tr>\n",
       "      <th>root_shell</th>\n",
       "      <td>125972.0</td>\n",
       "      <td>0.001342</td>\n",
       "      <td>0.036603</td>\n",
       "      <td>0.0</td>\n",
       "      <td>0.0</td>\n",
       "      <td>0.0</td>\n",
       "      <td>0.0</td>\n",
       "      <td>1.0</td>\n",
       "    </tr>\n",
       "    <tr>\n",
       "      <th>su_attempted</th>\n",
       "      <td>125972.0</td>\n",
       "      <td>0.001103</td>\n",
       "      <td>0.045155</td>\n",
       "      <td>0.0</td>\n",
       "      <td>0.0</td>\n",
       "      <td>0.0</td>\n",
       "      <td>0.0</td>\n",
       "      <td>2.0</td>\n",
       "    </tr>\n",
       "    <tr>\n",
       "      <th>is_host_login</th>\n",
       "      <td>125972.0</td>\n",
       "      <td>0.000008</td>\n",
       "      <td>0.002817</td>\n",
       "      <td>0.0</td>\n",
       "      <td>0.0</td>\n",
       "      <td>0.0</td>\n",
       "      <td>0.0</td>\n",
       "      <td>1.0</td>\n",
       "    </tr>\n",
       "    <tr>\n",
       "      <th>is_guest_login</th>\n",
       "      <td>125972.0</td>\n",
       "      <td>0.009423</td>\n",
       "      <td>0.096613</td>\n",
       "      <td>0.0</td>\n",
       "      <td>0.0</td>\n",
       "      <td>0.0</td>\n",
       "      <td>0.0</td>\n",
       "      <td>1.0</td>\n",
       "    </tr>\n",
       "  </tbody>\n",
       "</table>\n",
       "</div>"
      ],
      "text/plain": [
       "                   count      mean       std  min  25%  50%  75%  max\n",
       "land            125972.0  0.000198  0.014086  0.0  0.0  0.0  0.0  1.0\n",
       "logged_in       125972.0  0.395739  0.489011  0.0  0.0  0.0  1.0  1.0\n",
       "root_shell      125972.0  0.001342  0.036603  0.0  0.0  0.0  0.0  1.0\n",
       "su_attempted    125972.0  0.001103  0.045155  0.0  0.0  0.0  0.0  2.0\n",
       "is_host_login   125972.0  0.000008  0.002817  0.0  0.0  0.0  0.0  1.0\n",
       "is_guest_login  125972.0  0.009423  0.096613  0.0  0.0  0.0  0.0  1.0"
      ]
     },
     "execution_count": 14,
     "metadata": {},
     "output_type": "execute_result"
    }
   ],
   "source": [
    "# Let's take a look at the binary features\n",
    "# By definition, all of these features should have a min of 0.0 and a max of 1.0\n",
    "train_df[binary_cols].describe().transpose()"
   ]
  },
  {
   "cell_type": "markdown",
   "metadata": {
    "id": "CcgpnhfAKkNs"
   },
   "source": [
    "## Data preparation"
   ]
  },
  {
   "cell_type": "code",
   "execution_count": 15,
   "metadata": {
    "id": "ZEFfVe3gKkNs",
    "outputId": "ce761245-80d2-4983-d2a4-84899313209d"
   },
   "outputs": [
    {
     "data": {
      "text/html": [
       "<div>\n",
       "<style scoped>\n",
       "    .dataframe tbody tr th:only-of-type {\n",
       "        vertical-align: middle;\n",
       "    }\n",
       "\n",
       "    .dataframe tbody tr th {\n",
       "        vertical-align: top;\n",
       "    }\n",
       "\n",
       "    .dataframe thead th {\n",
       "        text-align: right;\n",
       "    }\n",
       "</style>\n",
       "<table border=\"1\" class=\"dataframe\">\n",
       "  <thead>\n",
       "    <tr style=\"text-align: right;\">\n",
       "      <th></th>\n",
       "      <th>duration</th>\n",
       "      <th>protocol_type</th>\n",
       "      <th>service</th>\n",
       "      <th>node_number</th>\n",
       "      <th>cluster_number</th>\n",
       "      <th>flag</th>\n",
       "      <th>src_bytes</th>\n",
       "      <th>dst_bytes</th>\n",
       "      <th>land</th>\n",
       "      <th>wrong_fragment</th>\n",
       "      <th>...</th>\n",
       "      <th>dst_host_same_srv_rate</th>\n",
       "      <th>dst_host_diff_srv_rate</th>\n",
       "      <th>dst_host_same_src_port_rate</th>\n",
       "      <th>dst_host_srv_diff_host_rate</th>\n",
       "      <th>dst_host_serror_rate</th>\n",
       "      <th>dst_host_srv_serror_rate</th>\n",
       "      <th>dst_host_rerror_rate</th>\n",
       "      <th>dst_host_srv_rerror_rate</th>\n",
       "      <th>attack_type</th>\n",
       "      <th>success_pred</th>\n",
       "    </tr>\n",
       "  </thead>\n",
       "  <tbody>\n",
       "    <tr>\n",
       "      <th>0</th>\n",
       "      <td>0</td>\n",
       "      <td>tcp</td>\n",
       "      <td>http</td>\n",
       "      <td>0T</td>\n",
       "      <td>T0</td>\n",
       "      <td>SF</td>\n",
       "      <td>305</td>\n",
       "      <td>1035</td>\n",
       "      <td>0</td>\n",
       "      <td>0</td>\n",
       "      <td>...</td>\n",
       "      <td>1.00</td>\n",
       "      <td>0.00</td>\n",
       "      <td>0.00</td>\n",
       "      <td>0.00</td>\n",
       "      <td>0.00</td>\n",
       "      <td>0.00</td>\n",
       "      <td>0.00</td>\n",
       "      <td>0.0</td>\n",
       "      <td>normal</td>\n",
       "      <td>21</td>\n",
       "    </tr>\n",
       "    <tr>\n",
       "      <th>1</th>\n",
       "      <td>0</td>\n",
       "      <td>tcp</td>\n",
       "      <td>private</td>\n",
       "      <td>00</td>\n",
       "      <td>00</td>\n",
       "      <td>S0</td>\n",
       "      <td>0</td>\n",
       "      <td>0</td>\n",
       "      <td>0</td>\n",
       "      <td>0</td>\n",
       "      <td>...</td>\n",
       "      <td>0.04</td>\n",
       "      <td>0.05</td>\n",
       "      <td>0.00</td>\n",
       "      <td>0.00</td>\n",
       "      <td>1.00</td>\n",
       "      <td>1.00</td>\n",
       "      <td>0.00</td>\n",
       "      <td>0.0</td>\n",
       "      <td>neptune</td>\n",
       "      <td>21</td>\n",
       "    </tr>\n",
       "    <tr>\n",
       "      <th>2</th>\n",
       "      <td>0</td>\n",
       "      <td>tcp</td>\n",
       "      <td>ftp_data</td>\n",
       "      <td>0T</td>\n",
       "      <td>TT</td>\n",
       "      <td>SF</td>\n",
       "      <td>71</td>\n",
       "      <td>0</td>\n",
       "      <td>0</td>\n",
       "      <td>0</td>\n",
       "      <td>...</td>\n",
       "      <td>0.29</td>\n",
       "      <td>0.02</td>\n",
       "      <td>0.16</td>\n",
       "      <td>0.00</td>\n",
       "      <td>0.50</td>\n",
       "      <td>0.45</td>\n",
       "      <td>0.00</td>\n",
       "      <td>0.0</td>\n",
       "      <td>normal</td>\n",
       "      <td>14</td>\n",
       "    </tr>\n",
       "    <tr>\n",
       "      <th>3</th>\n",
       "      <td>0</td>\n",
       "      <td>icmp</td>\n",
       "      <td>eco_i</td>\n",
       "      <td>10</td>\n",
       "      <td>01</td>\n",
       "      <td>SF</td>\n",
       "      <td>8</td>\n",
       "      <td>0</td>\n",
       "      <td>0</td>\n",
       "      <td>0</td>\n",
       "      <td>...</td>\n",
       "      <td>1.00</td>\n",
       "      <td>0.00</td>\n",
       "      <td>1.00</td>\n",
       "      <td>0.55</td>\n",
       "      <td>0.00</td>\n",
       "      <td>0.00</td>\n",
       "      <td>0.00</td>\n",
       "      <td>0.0</td>\n",
       "      <td>ipsweep</td>\n",
       "      <td>15</td>\n",
       "    </tr>\n",
       "    <tr>\n",
       "      <th>4</th>\n",
       "      <td>0</td>\n",
       "      <td>tcp</td>\n",
       "      <td>http</td>\n",
       "      <td>0T</td>\n",
       "      <td>01</td>\n",
       "      <td>SF</td>\n",
       "      <td>338</td>\n",
       "      <td>3581</td>\n",
       "      <td>0</td>\n",
       "      <td>0</td>\n",
       "      <td>...</td>\n",
       "      <td>1.00</td>\n",
       "      <td>0.00</td>\n",
       "      <td>0.01</td>\n",
       "      <td>0.02</td>\n",
       "      <td>0.00</td>\n",
       "      <td>0.00</td>\n",
       "      <td>0.00</td>\n",
       "      <td>0.0</td>\n",
       "      <td>normal</td>\n",
       "      <td>21</td>\n",
       "    </tr>\n",
       "    <tr>\n",
       "      <th>...</th>\n",
       "      <td>...</td>\n",
       "      <td>...</td>\n",
       "      <td>...</td>\n",
       "      <td>...</td>\n",
       "      <td>...</td>\n",
       "      <td>...</td>\n",
       "      <td>...</td>\n",
       "      <td>...</td>\n",
       "      <td>...</td>\n",
       "      <td>...</td>\n",
       "      <td>...</td>\n",
       "      <td>...</td>\n",
       "      <td>...</td>\n",
       "      <td>...</td>\n",
       "      <td>...</td>\n",
       "      <td>...</td>\n",
       "      <td>...</td>\n",
       "      <td>...</td>\n",
       "      <td>...</td>\n",
       "      <td>...</td>\n",
       "      <td>...</td>\n",
       "    </tr>\n",
       "    <tr>\n",
       "      <th>125967</th>\n",
       "      <td>0</td>\n",
       "      <td>tcp</td>\n",
       "      <td>private</td>\n",
       "      <td>1T</td>\n",
       "      <td>T1</td>\n",
       "      <td>S0</td>\n",
       "      <td>0</td>\n",
       "      <td>0</td>\n",
       "      <td>0</td>\n",
       "      <td>0</td>\n",
       "      <td>...</td>\n",
       "      <td>0.00</td>\n",
       "      <td>1.00</td>\n",
       "      <td>0.00</td>\n",
       "      <td>0.00</td>\n",
       "      <td>0.05</td>\n",
       "      <td>1.00</td>\n",
       "      <td>0.95</td>\n",
       "      <td>0.0</td>\n",
       "      <td>satan</td>\n",
       "      <td>18</td>\n",
       "    </tr>\n",
       "    <tr>\n",
       "      <th>125968</th>\n",
       "      <td>0</td>\n",
       "      <td>tcp</td>\n",
       "      <td>echo</td>\n",
       "      <td>01</td>\n",
       "      <td>11</td>\n",
       "      <td>RSTO</td>\n",
       "      <td>0</td>\n",
       "      <td>0</td>\n",
       "      <td>0</td>\n",
       "      <td>0</td>\n",
       "      <td>...</td>\n",
       "      <td>0.07</td>\n",
       "      <td>0.07</td>\n",
       "      <td>0.00</td>\n",
       "      <td>0.00</td>\n",
       "      <td>0.00</td>\n",
       "      <td>0.00</td>\n",
       "      <td>1.00</td>\n",
       "      <td>1.0</td>\n",
       "      <td>neptune</td>\n",
       "      <td>19</td>\n",
       "    </tr>\n",
       "    <tr>\n",
       "      <th>125969</th>\n",
       "      <td>0</td>\n",
       "      <td>tcp</td>\n",
       "      <td>private</td>\n",
       "      <td>10</td>\n",
       "      <td>00</td>\n",
       "      <td>REJ</td>\n",
       "      <td>0</td>\n",
       "      <td>0</td>\n",
       "      <td>0</td>\n",
       "      <td>0</td>\n",
       "      <td>...</td>\n",
       "      <td>0.00</td>\n",
       "      <td>1.00</td>\n",
       "      <td>1.00</td>\n",
       "      <td>0.00</td>\n",
       "      <td>0.02</td>\n",
       "      <td>0.00</td>\n",
       "      <td>0.98</td>\n",
       "      <td>1.0</td>\n",
       "      <td>portsweep</td>\n",
       "      <td>18</td>\n",
       "    </tr>\n",
       "    <tr>\n",
       "      <th>125970</th>\n",
       "      <td>0</td>\n",
       "      <td>tcp</td>\n",
       "      <td>private</td>\n",
       "      <td>0T</td>\n",
       "      <td>TT</td>\n",
       "      <td>S0</td>\n",
       "      <td>0</td>\n",
       "      <td>0</td>\n",
       "      <td>0</td>\n",
       "      <td>0</td>\n",
       "      <td>...</td>\n",
       "      <td>0.10</td>\n",
       "      <td>0.06</td>\n",
       "      <td>0.00</td>\n",
       "      <td>0.00</td>\n",
       "      <td>1.00</td>\n",
       "      <td>1.00</td>\n",
       "      <td>0.00</td>\n",
       "      <td>0.0</td>\n",
       "      <td>neptune</td>\n",
       "      <td>20</td>\n",
       "    </tr>\n",
       "    <tr>\n",
       "      <th>125971</th>\n",
       "      <td>1</td>\n",
       "      <td>tcp</td>\n",
       "      <td>smtp</td>\n",
       "      <td>T1</td>\n",
       "      <td>TT</td>\n",
       "      <td>SF</td>\n",
       "      <td>1275</td>\n",
       "      <td>335</td>\n",
       "      <td>0</td>\n",
       "      <td>0</td>\n",
       "      <td>...</td>\n",
       "      <td>0.74</td>\n",
       "      <td>0.03</td>\n",
       "      <td>0.01</td>\n",
       "      <td>0.01</td>\n",
       "      <td>0.00</td>\n",
       "      <td>0.00</td>\n",
       "      <td>0.00</td>\n",
       "      <td>0.0</td>\n",
       "      <td>normal</td>\n",
       "      <td>21</td>\n",
       "    </tr>\n",
       "  </tbody>\n",
       "</table>\n",
       "<p>125972 rows × 45 columns</p>\n",
       "</div>"
      ],
      "text/plain": [
       "        duration protocol_type   service node_number cluster_number  flag  \\\n",
       "0              0           tcp      http          0T             T0    SF   \n",
       "1              0           tcp   private          00             00    S0   \n",
       "2              0           tcp  ftp_data          0T             TT    SF   \n",
       "3              0          icmp     eco_i          10             01    SF   \n",
       "4              0           tcp      http          0T             01    SF   \n",
       "...          ...           ...       ...         ...            ...   ...   \n",
       "125967         0           tcp   private          1T             T1    S0   \n",
       "125968         0           tcp      echo          01             11  RSTO   \n",
       "125969         0           tcp   private          10             00   REJ   \n",
       "125970         0           tcp   private          0T             TT    S0   \n",
       "125971         1           tcp      smtp          T1             TT    SF   \n",
       "\n",
       "        src_bytes  dst_bytes  land  wrong_fragment  ...  \\\n",
       "0             305       1035     0               0  ...   \n",
       "1               0          0     0               0  ...   \n",
       "2              71          0     0               0  ...   \n",
       "3               8          0     0               0  ...   \n",
       "4             338       3581     0               0  ...   \n",
       "...           ...        ...   ...             ...  ...   \n",
       "125967          0          0     0               0  ...   \n",
       "125968          0          0     0               0  ...   \n",
       "125969          0          0     0               0  ...   \n",
       "125970          0          0     0               0  ...   \n",
       "125971       1275        335     0               0  ...   \n",
       "\n",
       "        dst_host_same_srv_rate  dst_host_diff_srv_rate  \\\n",
       "0                         1.00                    0.00   \n",
       "1                         0.04                    0.05   \n",
       "2                         0.29                    0.02   \n",
       "3                         1.00                    0.00   \n",
       "4                         1.00                    0.00   \n",
       "...                        ...                     ...   \n",
       "125967                    0.00                    1.00   \n",
       "125968                    0.07                    0.07   \n",
       "125969                    0.00                    1.00   \n",
       "125970                    0.10                    0.06   \n",
       "125971                    0.74                    0.03   \n",
       "\n",
       "        dst_host_same_src_port_rate  dst_host_srv_diff_host_rate  \\\n",
       "0                              0.00                         0.00   \n",
       "1                              0.00                         0.00   \n",
       "2                              0.16                         0.00   \n",
       "3                              1.00                         0.55   \n",
       "4                              0.01                         0.02   \n",
       "...                             ...                          ...   \n",
       "125967                         0.00                         0.00   \n",
       "125968                         0.00                         0.00   \n",
       "125969                         1.00                         0.00   \n",
       "125970                         0.00                         0.00   \n",
       "125971                         0.01                         0.01   \n",
       "\n",
       "        dst_host_serror_rate  dst_host_srv_serror_rate  dst_host_rerror_rate  \\\n",
       "0                       0.00                      0.00                  0.00   \n",
       "1                       1.00                      1.00                  0.00   \n",
       "2                       0.50                      0.45                  0.00   \n",
       "3                       0.00                      0.00                  0.00   \n",
       "4                       0.00                      0.00                  0.00   \n",
       "...                      ...                       ...                   ...   \n",
       "125967                  0.05                      1.00                  0.95   \n",
       "125968                  0.00                      0.00                  1.00   \n",
       "125969                  0.02                      0.00                  0.98   \n",
       "125970                  1.00                      1.00                  0.00   \n",
       "125971                  0.00                      0.00                  0.00   \n",
       "\n",
       "        dst_host_srv_rerror_rate  attack_type  success_pred  \n",
       "0                            0.0       normal            21  \n",
       "1                            0.0      neptune            21  \n",
       "2                            0.0       normal            14  \n",
       "3                            0.0      ipsweep            15  \n",
       "4                            0.0       normal            21  \n",
       "...                          ...          ...           ...  \n",
       "125967                       0.0        satan            18  \n",
       "125968                       1.0      neptune            19  \n",
       "125969                       1.0    portsweep            18  \n",
       "125970                       0.0      neptune            20  \n",
       "125971                       0.0       normal            21  \n",
       "\n",
       "[125972 rows x 45 columns]"
      ]
     },
     "execution_count": 15,
     "metadata": {},
     "output_type": "execute_result"
    }
   ],
   "source": [
    "train_df"
   ]
  },
  {
   "cell_type": "code",
   "execution_count": 16,
   "metadata": {
    "id": "fgFYobXNKkNt"
   },
   "outputs": [],
   "source": [
    "train_Y = train_df[\"attack_type\"]\n",
    "train_x_raw = train_df.drop([\"attack_type\"], axis=1)\n",
    "test_Y = test_df['attack_type']\n",
    "test_x_raw = test_df.drop(['attack_type'], axis=1)"
   ]
  },
  {
   "cell_type": "code",
   "execution_count": 17,
   "metadata": {},
   "outputs": [
    {
     "data": {
      "text/plain": [
       "0            normal\n",
       "1           neptune\n",
       "2            normal\n",
       "3           ipsweep\n",
       "4            normal\n",
       "            ...    \n",
       "125967        satan\n",
       "125968      neptune\n",
       "125969    portsweep\n",
       "125970      neptune\n",
       "125971       normal\n",
       "Name: attack_type, Length: 125972, dtype: object"
      ]
     },
     "execution_count": 17,
     "metadata": {},
     "output_type": "execute_result"
    }
   ],
   "source": [
    "train_Y"
   ]
  },
  {
   "cell_type": "code",
   "execution_count": 18,
   "metadata": {
    "id": "nm-cxZnRKkNt"
   },
   "outputs": [],
   "source": [
    "combined_df_raw = pd.concat([train_x_raw, test_x_raw])\n",
    "combined_df = pd.get_dummies(combined_df_raw, columns=nominal_cols, drop_first=True)\n",
    "\n",
    "train_x = combined_df[:len(train_x_raw)]\n",
    "test_x = combined_df[len(train_x_raw):]\n",
    "\n",
    "# Store dummy variable feature names\n",
    "dummy_variables = list(set(train_x)-set(combined_df_raw))"
   ]
  },
  {
   "cell_type": "code",
   "execution_count": 19,
   "metadata": {
    "id": "zvAEvwHiKkNt"
   },
   "outputs": [
    {
     "data": {
      "text/plain": [
       "count    125972.000000\n",
       "mean        287.146929\n",
       "std        2604.525522\n",
       "min           0.000000\n",
       "25%           0.000000\n",
       "50%           0.000000\n",
       "75%           0.000000\n",
       "max       42908.000000\n",
       "Name: duration, dtype: float64"
      ]
     },
     "execution_count": 19,
     "metadata": {},
     "output_type": "execute_result"
    }
   ],
   "source": [
    "# Example statistics for the 'duration' feature before scaling\n",
    "train_x['duration'].describe()"
   ]
  },
  {
   "cell_type": "code",
   "execution_count": 21,
   "metadata": {
    "id": "sjRPobnqKkNt"
   },
   "outputs": [
    {
     "data": {
      "text/plain": [
       "count    1.259720e+05\n",
       "mean     4.004742e-17\n",
       "std      1.000004e+00\n",
       "min     -1.102497e-01\n",
       "25%     -1.102497e-01\n",
       "50%     -1.102497e-01\n",
       "75%     -1.102497e-01\n",
       "max      1.636422e+01\n",
       "dtype: float64"
      ]
     },
     "execution_count": 21,
     "metadata": {},
     "output_type": "execute_result"
    }
   ],
   "source": [
    "# Experimenting with StandardScaler on the single 'duration' feature\n",
    "from sklearn.preprocessing import StandardScaler\n",
    "\n",
    "durations = train_x['duration'].values.reshape(-1, 1)\n",
    "standard_scaler = StandardScaler().fit(durations)\n",
    "scaled_durations = standard_scaler.transform(durations)\n",
    "pd.Series(scaled_durations.flatten()).describe()"
   ]
  },
  {
   "cell_type": "code",
   "execution_count": 22,
   "metadata": {
    "id": "O3K_urWqKkNt"
   },
   "outputs": [
    {
     "data": {
      "text/plain": [
       "count    125972.000000\n",
       "mean          0.006692\n",
       "std           0.060700\n",
       "min           0.000000\n",
       "25%           0.000000\n",
       "50%           0.000000\n",
       "75%           0.000000\n",
       "max           1.000000\n",
       "dtype: float64"
      ]
     },
     "execution_count": 22,
     "metadata": {},
     "output_type": "execute_result"
    }
   ],
   "source": [
    "# Experimenting with MinMaxScaler on the single 'duration' feature\n",
    "from sklearn.preprocessing import MinMaxScaler\n",
    "\n",
    "min_max_scaler = MinMaxScaler().fit(durations)\n",
    "min_max_scaled_durations = min_max_scaler.transform(durations)\n",
    "pd.Series(min_max_scaled_durations.flatten()).describe()"
   ]
  },
  {
   "cell_type": "code",
   "execution_count": 23,
   "metadata": {
    "id": "vvwjXr88KkNt"
   },
   "outputs": [
    {
     "data": {
      "text/plain": [
       "count    125972.000000\n",
       "mean        287.146929\n",
       "std        2604.525522\n",
       "min           0.000000\n",
       "25%           0.000000\n",
       "50%           0.000000\n",
       "75%           0.000000\n",
       "max       42908.000000\n",
       "dtype: float64"
      ]
     },
     "execution_count": 23,
     "metadata": {},
     "output_type": "execute_result"
    }
   ],
   "source": [
    "# Experimenting with RobustScaler on the single 'duration' feature\n",
    "from sklearn.preprocessing import RobustScaler\n",
    "\n",
    "min_max_scaler = RobustScaler().fit(durations)\n",
    "robust_scaled_durations = min_max_scaler.transform(durations)\n",
    "pd.Series(robust_scaled_durations.flatten()).describe()"
   ]
  },
  {
   "cell_type": "code",
   "execution_count": 24,
   "metadata": {},
   "outputs": [
    {
     "data": {
      "text/plain": [
       "['duration',\n",
       " 'src_bytes',\n",
       " 'dst_bytes',\n",
       " 'wrong_fragment',\n",
       " 'urgent',\n",
       " 'hot',\n",
       " 'num_failed_logins',\n",
       " 'num_compromised',\n",
       " 'num_root',\n",
       " 'num_file_creations',\n",
       " 'num_shells',\n",
       " 'num_access_files',\n",
       " 'num_outbound_cmds',\n",
       " 'count',\n",
       " 'srv_count',\n",
       " 'serror_rate',\n",
       " 'srv_serror_rate',\n",
       " 'rerror_rate',\n",
       " 'srv_rerror_rate',\n",
       " 'same_srv_rate',\n",
       " 'diff_srv_rate',\n",
       " 'srv_diff_host_rate',\n",
       " 'dst_host_count',\n",
       " 'dst_host_srv_count',\n",
       " 'dst_host_same_srv_rate',\n",
       " 'dst_host_diff_srv_rate',\n",
       " 'dst_host_same_src_port_rate',\n",
       " 'dst_host_srv_diff_host_rate',\n",
       " 'dst_host_serror_rate',\n",
       " 'dst_host_srv_serror_rate',\n",
       " 'dst_host_rerror_rate',\n",
       " 'dst_host_srv_rerror_rate']"
      ]
     },
     "execution_count": 24,
     "metadata": {},
     "output_type": "execute_result"
    }
   ],
   "source": [
    "numeric_cols"
   ]
  },
  {
   "cell_type": "code",
   "execution_count": 25,
   "metadata": {
    "id": "8EYqauYiKkNu"
   },
   "outputs": [],
   "source": [
    "# Let's proceed with StandardScaler- Apply to all the numeric columns\n",
    "\n",
    "standard_scaler = StandardScaler().fit(train_x[numeric_cols])\n",
    "\n",
    "train_x[numeric_cols] = \\\n",
    "    standard_scaler.transform(train_x[numeric_cols])\n",
    "\n",
    "test_x[numeric_cols] = \\\n",
    "    standard_scaler.transform(test_x[numeric_cols])"
   ]
  },
  {
   "cell_type": "code",
   "execution_count": 26,
   "metadata": {
    "id": "svgPu6xgKkNu"
   },
   "outputs": [
    {
     "data": {
      "text/html": [
       "<div>\n",
       "<style scoped>\n",
       "    .dataframe tbody tr th:only-of-type {\n",
       "        vertical-align: middle;\n",
       "    }\n",
       "\n",
       "    .dataframe tbody tr th {\n",
       "        vertical-align: top;\n",
       "    }\n",
       "\n",
       "    .dataframe thead th {\n",
       "        text-align: right;\n",
       "    }\n",
       "</style>\n",
       "<table border=\"1\" class=\"dataframe\">\n",
       "  <thead>\n",
       "    <tr style=\"text-align: right;\">\n",
       "      <th></th>\n",
       "      <th>duration</th>\n",
       "      <th>src_bytes</th>\n",
       "      <th>dst_bytes</th>\n",
       "      <th>land</th>\n",
       "      <th>wrong_fragment</th>\n",
       "      <th>urgent</th>\n",
       "      <th>hot</th>\n",
       "      <th>num_failed_logins</th>\n",
       "      <th>logged_in</th>\n",
       "      <th>num_compromised</th>\n",
       "      <th>...</th>\n",
       "      <th>flag_REJ</th>\n",
       "      <th>flag_RSTO</th>\n",
       "      <th>flag_RSTOS0</th>\n",
       "      <th>flag_RSTR</th>\n",
       "      <th>flag_S0</th>\n",
       "      <th>flag_S1</th>\n",
       "      <th>flag_S2</th>\n",
       "      <th>flag_S3</th>\n",
       "      <th>flag_SF</th>\n",
       "      <th>flag_SH</th>\n",
       "    </tr>\n",
       "  </thead>\n",
       "  <tbody>\n",
       "    <tr>\n",
       "      <th>count</th>\n",
       "      <td>1.259720e+05</td>\n",
       "      <td>1.259720e+05</td>\n",
       "      <td>1.259720e+05</td>\n",
       "      <td>125972.000000</td>\n",
       "      <td>1.259720e+05</td>\n",
       "      <td>1.259720e+05</td>\n",
       "      <td>1.259720e+05</td>\n",
       "      <td>1.259720e+05</td>\n",
       "      <td>125972.000000</td>\n",
       "      <td>1.259720e+05</td>\n",
       "      <td>...</td>\n",
       "      <td>125972.000000</td>\n",
       "      <td>125972.000000</td>\n",
       "      <td>125972.000000</td>\n",
       "      <td>125972.000000</td>\n",
       "      <td>125972.000000</td>\n",
       "      <td>125972.000000</td>\n",
       "      <td>125972.000000</td>\n",
       "      <td>125972.000000</td>\n",
       "      <td>125972.000000</td>\n",
       "      <td>125972.000000</td>\n",
       "    </tr>\n",
       "    <tr>\n",
       "      <th>mean</th>\n",
       "      <td>4.004742e-17</td>\n",
       "      <td>-1.974169e-19</td>\n",
       "      <td>7.473638e-19</td>\n",
       "      <td>0.000198</td>\n",
       "      <td>3.215074e-18</td>\n",
       "      <td>4.822612e-18</td>\n",
       "      <td>-6.373744e-18</td>\n",
       "      <td>-1.455244e-17</td>\n",
       "      <td>0.395739</td>\n",
       "      <td>-4.568790e-18</td>\n",
       "      <td>...</td>\n",
       "      <td>0.089171</td>\n",
       "      <td>0.012400</td>\n",
       "      <td>0.000818</td>\n",
       "      <td>0.019219</td>\n",
       "      <td>0.276657</td>\n",
       "      <td>0.002897</td>\n",
       "      <td>0.001008</td>\n",
       "      <td>0.000389</td>\n",
       "      <td>0.594926</td>\n",
       "      <td>0.002151</td>\n",
       "    </tr>\n",
       "    <tr>\n",
       "      <th>std</th>\n",
       "      <td>1.000004e+00</td>\n",
       "      <td>1.000004e+00</td>\n",
       "      <td>1.000004e+00</td>\n",
       "      <td>0.014086</td>\n",
       "      <td>1.000004e+00</td>\n",
       "      <td>1.000004e+00</td>\n",
       "      <td>1.000004e+00</td>\n",
       "      <td>1.000004e+00</td>\n",
       "      <td>0.489011</td>\n",
       "      <td>1.000004e+00</td>\n",
       "      <td>...</td>\n",
       "      <td>0.284991</td>\n",
       "      <td>0.110661</td>\n",
       "      <td>0.028583</td>\n",
       "      <td>0.137293</td>\n",
       "      <td>0.447347</td>\n",
       "      <td>0.053750</td>\n",
       "      <td>0.031736</td>\n",
       "      <td>0.019719</td>\n",
       "      <td>0.490908</td>\n",
       "      <td>0.046332</td>\n",
       "    </tr>\n",
       "    <tr>\n",
       "      <th>min</th>\n",
       "      <td>-1.102497e-01</td>\n",
       "      <td>-7.762271e-03</td>\n",
       "      <td>-4.918664e-03</td>\n",
       "      <td>0.000000</td>\n",
       "      <td>-8.948678e-02</td>\n",
       "      <td>-7.736016e-03</td>\n",
       "      <td>-9.507605e-02</td>\n",
       "      <td>-2.702293e-02</td>\n",
       "      <td>0.000000</td>\n",
       "      <td>-1.166369e-02</td>\n",
       "      <td>...</td>\n",
       "      <td>0.000000</td>\n",
       "      <td>0.000000</td>\n",
       "      <td>0.000000</td>\n",
       "      <td>0.000000</td>\n",
       "      <td>0.000000</td>\n",
       "      <td>0.000000</td>\n",
       "      <td>0.000000</td>\n",
       "      <td>0.000000</td>\n",
       "      <td>0.000000</td>\n",
       "      <td>0.000000</td>\n",
       "    </tr>\n",
       "    <tr>\n",
       "      <th>25%</th>\n",
       "      <td>-1.102497e-01</td>\n",
       "      <td>-7.762271e-03</td>\n",
       "      <td>-4.918664e-03</td>\n",
       "      <td>0.000000</td>\n",
       "      <td>-8.948678e-02</td>\n",
       "      <td>-7.736016e-03</td>\n",
       "      <td>-9.507605e-02</td>\n",
       "      <td>-2.702293e-02</td>\n",
       "      <td>0.000000</td>\n",
       "      <td>-1.166369e-02</td>\n",
       "      <td>...</td>\n",
       "      <td>0.000000</td>\n",
       "      <td>0.000000</td>\n",
       "      <td>0.000000</td>\n",
       "      <td>0.000000</td>\n",
       "      <td>0.000000</td>\n",
       "      <td>0.000000</td>\n",
       "      <td>0.000000</td>\n",
       "      <td>0.000000</td>\n",
       "      <td>0.000000</td>\n",
       "      <td>0.000000</td>\n",
       "    </tr>\n",
       "    <tr>\n",
       "      <th>50%</th>\n",
       "      <td>-1.102497e-01</td>\n",
       "      <td>-7.754776e-03</td>\n",
       "      <td>-4.918664e-03</td>\n",
       "      <td>0.000000</td>\n",
       "      <td>-8.948678e-02</td>\n",
       "      <td>-7.736016e-03</td>\n",
       "      <td>-9.507605e-02</td>\n",
       "      <td>-2.702293e-02</td>\n",
       "      <td>0.000000</td>\n",
       "      <td>-1.166369e-02</td>\n",
       "      <td>...</td>\n",
       "      <td>0.000000</td>\n",
       "      <td>0.000000</td>\n",
       "      <td>0.000000</td>\n",
       "      <td>0.000000</td>\n",
       "      <td>0.000000</td>\n",
       "      <td>0.000000</td>\n",
       "      <td>0.000000</td>\n",
       "      <td>0.000000</td>\n",
       "      <td>1.000000</td>\n",
       "      <td>0.000000</td>\n",
       "    </tr>\n",
       "    <tr>\n",
       "      <th>75%</th>\n",
       "      <td>-1.102497e-01</td>\n",
       "      <td>-7.715255e-03</td>\n",
       "      <td>-4.790346e-03</td>\n",
       "      <td>0.000000</td>\n",
       "      <td>-8.948678e-02</td>\n",
       "      <td>-7.736016e-03</td>\n",
       "      <td>-9.507605e-02</td>\n",
       "      <td>-2.702293e-02</td>\n",
       "      <td>1.000000</td>\n",
       "      <td>-1.166369e-02</td>\n",
       "      <td>...</td>\n",
       "      <td>0.000000</td>\n",
       "      <td>0.000000</td>\n",
       "      <td>0.000000</td>\n",
       "      <td>0.000000</td>\n",
       "      <td>1.000000</td>\n",
       "      <td>0.000000</td>\n",
       "      <td>0.000000</td>\n",
       "      <td>0.000000</td>\n",
       "      <td>1.000000</td>\n",
       "      <td>0.000000</td>\n",
       "    </tr>\n",
       "    <tr>\n",
       "      <th>max</th>\n",
       "      <td>1.636422e+01</td>\n",
       "      <td>2.350665e+02</td>\n",
       "      <td>3.257473e+02</td>\n",
       "      <td>1.000000</td>\n",
       "      <td>1.174343e+01</td>\n",
       "      <td>2.088183e+02</td>\n",
       "      <td>3.571940e+01</td>\n",
       "      <td>1.104967e+02</td>\n",
       "      <td>1.000000</td>\n",
       "      <td>3.123677e+02</td>\n",
       "      <td>...</td>\n",
       "      <td>1.000000</td>\n",
       "      <td>1.000000</td>\n",
       "      <td>1.000000</td>\n",
       "      <td>1.000000</td>\n",
       "      <td>1.000000</td>\n",
       "      <td>1.000000</td>\n",
       "      <td>1.000000</td>\n",
       "      <td>1.000000</td>\n",
       "      <td>1.000000</td>\n",
       "      <td>1.000000</td>\n",
       "    </tr>\n",
       "  </tbody>\n",
       "</table>\n",
       "<p>8 rows × 136 columns</p>\n",
       "</div>"
      ],
      "text/plain": [
       "           duration     src_bytes     dst_bytes           land  \\\n",
       "count  1.259720e+05  1.259720e+05  1.259720e+05  125972.000000   \n",
       "mean   4.004742e-17 -1.974169e-19  7.473638e-19       0.000198   \n",
       "std    1.000004e+00  1.000004e+00  1.000004e+00       0.014086   \n",
       "min   -1.102497e-01 -7.762271e-03 -4.918664e-03       0.000000   \n",
       "25%   -1.102497e-01 -7.762271e-03 -4.918664e-03       0.000000   \n",
       "50%   -1.102497e-01 -7.754776e-03 -4.918664e-03       0.000000   \n",
       "75%   -1.102497e-01 -7.715255e-03 -4.790346e-03       0.000000   \n",
       "max    1.636422e+01  2.350665e+02  3.257473e+02       1.000000   \n",
       "\n",
       "       wrong_fragment        urgent           hot  num_failed_logins  \\\n",
       "count    1.259720e+05  1.259720e+05  1.259720e+05       1.259720e+05   \n",
       "mean     3.215074e-18  4.822612e-18 -6.373744e-18      -1.455244e-17   \n",
       "std      1.000004e+00  1.000004e+00  1.000004e+00       1.000004e+00   \n",
       "min     -8.948678e-02 -7.736016e-03 -9.507605e-02      -2.702293e-02   \n",
       "25%     -8.948678e-02 -7.736016e-03 -9.507605e-02      -2.702293e-02   \n",
       "50%     -8.948678e-02 -7.736016e-03 -9.507605e-02      -2.702293e-02   \n",
       "75%     -8.948678e-02 -7.736016e-03 -9.507605e-02      -2.702293e-02   \n",
       "max      1.174343e+01  2.088183e+02  3.571940e+01       1.104967e+02   \n",
       "\n",
       "           logged_in  num_compromised  ...       flag_REJ      flag_RSTO  \\\n",
       "count  125972.000000     1.259720e+05  ...  125972.000000  125972.000000   \n",
       "mean        0.395739    -4.568790e-18  ...       0.089171       0.012400   \n",
       "std         0.489011     1.000004e+00  ...       0.284991       0.110661   \n",
       "min         0.000000    -1.166369e-02  ...       0.000000       0.000000   \n",
       "25%         0.000000    -1.166369e-02  ...       0.000000       0.000000   \n",
       "50%         0.000000    -1.166369e-02  ...       0.000000       0.000000   \n",
       "75%         1.000000    -1.166369e-02  ...       0.000000       0.000000   \n",
       "max         1.000000     3.123677e+02  ...       1.000000       1.000000   \n",
       "\n",
       "         flag_RSTOS0      flag_RSTR        flag_S0        flag_S1  \\\n",
       "count  125972.000000  125972.000000  125972.000000  125972.000000   \n",
       "mean        0.000818       0.019219       0.276657       0.002897   \n",
       "std         0.028583       0.137293       0.447347       0.053750   \n",
       "min         0.000000       0.000000       0.000000       0.000000   \n",
       "25%         0.000000       0.000000       0.000000       0.000000   \n",
       "50%         0.000000       0.000000       0.000000       0.000000   \n",
       "75%         0.000000       0.000000       1.000000       0.000000   \n",
       "max         1.000000       1.000000       1.000000       1.000000   \n",
       "\n",
       "             flag_S2        flag_S3        flag_SF        flag_SH  \n",
       "count  125972.000000  125972.000000  125972.000000  125972.000000  \n",
       "mean        0.001008       0.000389       0.594926       0.002151  \n",
       "std         0.031736       0.019719       0.490908       0.046332  \n",
       "min         0.000000       0.000000       0.000000       0.000000  \n",
       "25%         0.000000       0.000000       0.000000       0.000000  \n",
       "50%         0.000000       0.000000       1.000000       0.000000  \n",
       "75%         0.000000       0.000000       1.000000       0.000000  \n",
       "max         1.000000       1.000000       1.000000       1.000000  \n",
       "\n",
       "[8 rows x 136 columns]"
      ]
     },
     "execution_count": 26,
     "metadata": {},
     "output_type": "execute_result"
    }
   ],
   "source": [
    "train_x.describe()"
   ]
  },
  {
   "cell_type": "code",
   "execution_count": 27,
   "metadata": {
    "id": "p1fneMDJKkNu"
   },
   "outputs": [],
   "source": [
    "train_Y_bin = train_Y.apply(lambda x: 0 if x is 'benign' else 1)\n",
    "test_Y_bin = test_Y.apply(lambda x: 0 if x is 'benign' else 1)"
   ]
  },
  {
   "cell_type": "code",
   "execution_count": 28,
   "metadata": {
    "id": "E-tPqEfeKkNu"
   },
   "outputs": [
    {
     "name": "stdout",
     "output_type": "stream",
     "text": [
      "[[  0  74   0 ...   0   0   0]\n",
      " [  0 302   0 ...   0   0   0]\n",
      " [  0   0   2 ...   0   0   0]\n",
      " ...\n",
      " [  0   0   0 ...   0   0   0]\n",
      " [  0   0   0 ...   0   0   0]\n",
      " [  0   0   1 ...   0   0   0]]\n",
      "0.30396593026350816\n"
     ]
    }
   ],
   "source": [
    "# 5-class classification version\n",
    "from sklearn.tree import DecisionTreeClassifier\n",
    "from sklearn.metrics import confusion_matrix, zero_one_loss\n",
    "\n",
    "classifier = DecisionTreeClassifier(random_state=0)\n",
    "classifier.fit(train_x, train_Y)\n",
    "\n",
    "pred_y = classifier.predict(test_x)\n",
    "\n",
    "results = confusion_matrix(test_Y, pred_y)\n",
    "error = zero_one_loss(test_Y, pred_y)\n",
    "\n",
    "print(results)\n",
    "print(error)"
   ]
  },
  {
   "cell_type": "code",
   "execution_count": 29,
   "metadata": {
    "id": "luSXKANCKkNu"
   },
   "outputs": [
    {
     "name": "stdout",
     "output_type": "stream",
     "text": [
      "[[  0 446   0 ...   0   0   0]\n",
      " [  0 357   0 ...   0   0   0]\n",
      " [  0   1   4 ...   0   0   0]\n",
      " ...\n",
      " [  0   0   0 ...   0   0   0]\n",
      " [  0   0   0 ...   0   0   0]\n",
      " [  0   0   0 ...   0   0   0]]\n",
      "0.2938958388785379\n"
     ]
    }
   ],
   "source": [
    "from sklearn.neighbors import KNeighborsClassifier\n",
    "\n",
    "classifier = KNeighborsClassifier(n_neighbors=3, n_jobs=-1)\n",
    "classifier.fit(train_x, train_Y)\n",
    "\n",
    "pred_y = classifier.predict(test_x)\n",
    "\n",
    "results = confusion_matrix(test_Y, pred_y)\n",
    "error = zero_one_loss(test_Y, pred_y)\n",
    "\n",
    "print(results)\n",
    "print(error)"
   ]
  },
  {
   "cell_type": "code",
   "execution_count": 30,
   "metadata": {
    "id": "5yedjWD7KkNu"
   },
   "outputs": [
    {
     "ename": "KeyboardInterrupt",
     "evalue": "",
     "output_type": "error",
     "traceback": [
      "\u001b[0;31m---------------------------------------------------------------------------\u001b[0m",
      "\u001b[0;31mKeyboardInterrupt\u001b[0m                         Traceback (most recent call last)",
      "\u001b[0;32m<ipython-input-30-38ba77d16843>\u001b[0m in \u001b[0;36m<module>\u001b[0;34m\u001b[0m\n\u001b[1;32m      2\u001b[0m \u001b[0;34m\u001b[0m\u001b[0m\n\u001b[1;32m      3\u001b[0m \u001b[0mclassifier\u001b[0m \u001b[0;34m=\u001b[0m \u001b[0mLinearSVC\u001b[0m\u001b[0;34m(\u001b[0m\u001b[0mrandom_state\u001b[0m\u001b[0;34m=\u001b[0m\u001b[0;36m0\u001b[0m\u001b[0;34m)\u001b[0m\u001b[0;34m\u001b[0m\u001b[0;34m\u001b[0m\u001b[0m\n\u001b[0;32m----> 4\u001b[0;31m \u001b[0mclassifier\u001b[0m\u001b[0;34m.\u001b[0m\u001b[0mfit\u001b[0m\u001b[0;34m(\u001b[0m\u001b[0mtrain_x\u001b[0m\u001b[0;34m,\u001b[0m \u001b[0mtrain_Y\u001b[0m\u001b[0;34m)\u001b[0m\u001b[0;34m\u001b[0m\u001b[0;34m\u001b[0m\u001b[0m\n\u001b[0m\u001b[1;32m      5\u001b[0m \u001b[0;34m\u001b[0m\u001b[0m\n\u001b[1;32m      6\u001b[0m \u001b[0mpred_y\u001b[0m \u001b[0;34m=\u001b[0m \u001b[0mclassifier\u001b[0m\u001b[0;34m.\u001b[0m\u001b[0mpredict\u001b[0m\u001b[0;34m(\u001b[0m\u001b[0mtest_x\u001b[0m\u001b[0;34m)\u001b[0m\u001b[0;34m\u001b[0m\u001b[0;34m\u001b[0m\u001b[0m\n",
      "\u001b[0;32m~/.local/lib/python3.8/site-packages/sklearn/svm/_classes.py\u001b[0m in \u001b[0;36mfit\u001b[0;34m(self, X, y, sample_weight)\u001b[0m\n\u001b[1;32m    231\u001b[0m         \u001b[0mself\u001b[0m\u001b[0;34m.\u001b[0m\u001b[0mclasses_\u001b[0m \u001b[0;34m=\u001b[0m \u001b[0mnp\u001b[0m\u001b[0;34m.\u001b[0m\u001b[0munique\u001b[0m\u001b[0;34m(\u001b[0m\u001b[0my\u001b[0m\u001b[0;34m)\u001b[0m\u001b[0;34m\u001b[0m\u001b[0;34m\u001b[0m\u001b[0m\n\u001b[1;32m    232\u001b[0m \u001b[0;34m\u001b[0m\u001b[0m\n\u001b[0;32m--> 233\u001b[0;31m         self.coef_, self.intercept_, self.n_iter_ = _fit_liblinear(\n\u001b[0m\u001b[1;32m    234\u001b[0m             \u001b[0mX\u001b[0m\u001b[0;34m,\u001b[0m \u001b[0my\u001b[0m\u001b[0;34m,\u001b[0m \u001b[0mself\u001b[0m\u001b[0;34m.\u001b[0m\u001b[0mC\u001b[0m\u001b[0;34m,\u001b[0m \u001b[0mself\u001b[0m\u001b[0;34m.\u001b[0m\u001b[0mfit_intercept\u001b[0m\u001b[0;34m,\u001b[0m \u001b[0mself\u001b[0m\u001b[0;34m.\u001b[0m\u001b[0mintercept_scaling\u001b[0m\u001b[0;34m,\u001b[0m\u001b[0;34m\u001b[0m\u001b[0;34m\u001b[0m\u001b[0m\n\u001b[1;32m    235\u001b[0m             \u001b[0mself\u001b[0m\u001b[0;34m.\u001b[0m\u001b[0mclass_weight\u001b[0m\u001b[0;34m,\u001b[0m \u001b[0mself\u001b[0m\u001b[0;34m.\u001b[0m\u001b[0mpenalty\u001b[0m\u001b[0;34m,\u001b[0m \u001b[0mself\u001b[0m\u001b[0;34m.\u001b[0m\u001b[0mdual\u001b[0m\u001b[0;34m,\u001b[0m \u001b[0mself\u001b[0m\u001b[0;34m.\u001b[0m\u001b[0mverbose\u001b[0m\u001b[0;34m,\u001b[0m\u001b[0;34m\u001b[0m\u001b[0;34m\u001b[0m\u001b[0m\n",
      "\u001b[0;32m~/.local/lib/python3.8/site-packages/sklearn/svm/_base.py\u001b[0m in \u001b[0;36m_fit_liblinear\u001b[0;34m(X, y, C, fit_intercept, intercept_scaling, class_weight, penalty, dual, verbose, max_iter, tol, random_state, multi_class, loss, epsilon, sample_weight)\u001b[0m\n\u001b[1;32m    964\u001b[0m \u001b[0;34m\u001b[0m\u001b[0m\n\u001b[1;32m    965\u001b[0m     \u001b[0msolver_type\u001b[0m \u001b[0;34m=\u001b[0m \u001b[0m_get_liblinear_solver_type\u001b[0m\u001b[0;34m(\u001b[0m\u001b[0mmulti_class\u001b[0m\u001b[0;34m,\u001b[0m \u001b[0mpenalty\u001b[0m\u001b[0;34m,\u001b[0m \u001b[0mloss\u001b[0m\u001b[0;34m,\u001b[0m \u001b[0mdual\u001b[0m\u001b[0;34m)\u001b[0m\u001b[0;34m\u001b[0m\u001b[0;34m\u001b[0m\u001b[0m\n\u001b[0;32m--> 966\u001b[0;31m     raw_coef_, n_iter_ = liblinear.train_wrap(\n\u001b[0m\u001b[1;32m    967\u001b[0m         \u001b[0mX\u001b[0m\u001b[0;34m,\u001b[0m \u001b[0my_ind\u001b[0m\u001b[0;34m,\u001b[0m \u001b[0msp\u001b[0m\u001b[0;34m.\u001b[0m\u001b[0misspmatrix\u001b[0m\u001b[0;34m(\u001b[0m\u001b[0mX\u001b[0m\u001b[0;34m)\u001b[0m\u001b[0;34m,\u001b[0m \u001b[0msolver_type\u001b[0m\u001b[0;34m,\u001b[0m \u001b[0mtol\u001b[0m\u001b[0;34m,\u001b[0m \u001b[0mbias\u001b[0m\u001b[0;34m,\u001b[0m \u001b[0mC\u001b[0m\u001b[0;34m,\u001b[0m\u001b[0;34m\u001b[0m\u001b[0;34m\u001b[0m\u001b[0m\n\u001b[1;32m    968\u001b[0m         \u001b[0mclass_weight_\u001b[0m\u001b[0;34m,\u001b[0m \u001b[0mmax_iter\u001b[0m\u001b[0;34m,\u001b[0m \u001b[0mrnd\u001b[0m\u001b[0;34m.\u001b[0m\u001b[0mrandint\u001b[0m\u001b[0;34m(\u001b[0m\u001b[0mnp\u001b[0m\u001b[0;34m.\u001b[0m\u001b[0miinfo\u001b[0m\u001b[0;34m(\u001b[0m\u001b[0;34m'i'\u001b[0m\u001b[0;34m)\u001b[0m\u001b[0;34m.\u001b[0m\u001b[0mmax\u001b[0m\u001b[0;34m)\u001b[0m\u001b[0;34m,\u001b[0m\u001b[0;34m\u001b[0m\u001b[0;34m\u001b[0m\u001b[0m\n",
      "\u001b[0;31mKeyboardInterrupt\u001b[0m: "
     ]
    }
   ],
   "source": [
    "from sklearn.svm import LinearSVC\n",
    "\n",
    "classifier = LinearSVC(random_state=0)\n",
    "classifier.fit(train_x, train_Y)\n",
    "\n",
    "pred_y = classifier.predict(test_x)\n",
    "\n",
    "results = confusion_matrix(test_Y, pred_y)\n",
    "error = zero_one_loss(test_Y, pred_y)\n",
    "\n",
    "print(results)\n",
    "print(error)"
   ]
  },
  {
   "cell_type": "code",
   "execution_count": null,
   "metadata": {},
   "outputs": [],
   "source": [
    "# training a Naive Bayes classifier \n",
    "from sklearn.naive_bayes import GaussianNB \n",
    "\n",
    "gnb = GaussianNB().fit(train_x, train_Y) \n",
    "pred_y = gnb.predict(test_x)  \n",
    "  \n",
    "# creating a confusion matrix \n",
    "results = confusion_matrix(test_Y, pred_y)\n",
    "error = zero_one_loss(test_Y, pred_y)\n",
    "\n",
    "print(results)\n",
    "print(error)"
   ]
  },
  {
   "cell_type": "markdown",
   "metadata": {
    "id": "nRByUU7eKkNu"
   },
   "source": [
    "## Dealing with class imbalance"
   ]
  },
  {
   "cell_type": "code",
   "execution_count": null,
   "metadata": {
    "id": "AgSWiau5KkNv",
    "outputId": "9ba7c112-85d2-4ae8-beaa-a6dfdc0e4301"
   },
   "outputs": [],
   "source": [
    "test_Y.value_counts().apply(lambda x: x/float(len(test_Y)))"
   ]
  },
  {
   "cell_type": "code",
   "execution_count": null,
   "metadata": {
    "id": "W-Dawz_JKkNv",
    "outputId": "e4e06e38-c4e2-4de0-af65-19579ace1c9a"
   },
   "outputs": [],
   "source": [
    "train_Y.value_counts().apply(lambda x: x/float(len(train_Y)))"
   ]
  },
  {
   "cell_type": "code",
   "execution_count": null,
   "metadata": {
    "id": "yBdgzXltKkNv",
    "outputId": "fca95b3c-e878-478e-b5b9-355e83277e1b"
   },
   "outputs": [],
   "source": [
    "strategy = pd.Series(train_Y).value_counts().to_dict()"
   ]
  },
  {
   "cell_type": "code",
   "execution_count": null,
   "metadata": {},
   "outputs": [],
   "source": [
    "strategy"
   ]
  },
  {
   "cell_type": "code",
   "execution_count": null,
   "metadata": {},
   "outputs": [],
   "source": [
    "lst = list(train_Y)\n",
    "train_Y22 = []\n",
    "for idx, i in enumerate(lst):\n",
    "    if i != 'normal':\n",
    "        train_Y22.append('not_normal')\n",
    "    else: \n",
    "        train_Y22.append(i)\n",
    "train_Y2 = pd.DataFrame(train_Y22)"
   ]
  },
  {
   "cell_type": "code",
   "execution_count": null,
   "metadata": {},
   "outputs": [],
   "source": [
    "(train_Y, train_Y2)"
   ]
  },
  {
   "cell_type": "code",
   "execution_count": null,
   "metadata": {},
   "outputs": [],
   "source": [
    "strategy2"
   ]
  },
  {
   "cell_type": "code",
   "execution_count": null,
   "metadata": {},
   "outputs": [],
   "source": [
    "from imblearn.over_sampling import SMOTE\n",
    "\n",
    "sm2 = SMOTE(sampling_strategy=strategy2)\n",
    "train_x_sm2, train_Y_sm2 = sm2.fit_sample(train_x, train_Y2)\n",
    "print(pd.Series(train_Y_sm2).value_counts())"
   ]
  },
  {
   "cell_type": "code",
   "execution_count": null,
   "metadata": {},
   "outputs": [],
   "source": [
    "from imblearn.under_sampling import RandomUnderSampler\n",
    "\n",
    "mean_class_size = int(pd.Series(train_Y2).value_counts().sum()/2)\n",
    "i = 0\n",
    "for value in strategy.values():\n",
    "    strategy[keys[i]] = int(value/2)\n",
    "    i+=1\n",
    "rus = RandomUnderSampler(sampling_strategy=strategy2, random_state=0, replacement=True)\n",
    "train_x_rus2, train_Y_rus2 = rus.fit_sample(train_x, train_Y2)\n",
    "print(pd.Series(train_Y_rus2).value_counts())"
   ]
  },
  {
   "cell_type": "code",
   "execution_count": null,
   "metadata": {},
   "outputs": [],
   "source": [
    "strategy2 = {'normal':2927, 'not_normal':2538}"
   ]
  },
  {
   "cell_type": "code",
   "execution_count": 325,
   "metadata": {
    "id": "89zqJX3XKkNv",
    "outputId": "9712a115-da14-4233-9b4c-198e53211771"
   },
   "outputs": [
    {
     "name": "stdout",
     "output_type": "stream",
     "text": [
      "normal             67342\n",
      "neptune            41214\n",
      "satan               3633\n",
      "ipsweep             3599\n",
      "portsweep           2931\n",
      "smurf               2646\n",
      "nmap                1493\n",
      "back                 956\n",
      "teardrop             892\n",
      "warezclient          890\n",
      "pod                  201\n",
      "guess_passwd          53\n",
      "buffer_overflow       30\n",
      "warezmaster           20\n",
      "land                  18\n",
      "imap                  11\n",
      "rootkit               10\n",
      "loadmodule             9\n",
      "ftp_write              8\n",
      "multihop               7\n",
      "phf                    4\n",
      "perl                   3\n",
      "spy                    2\n",
      "Name: attack_type, dtype: int64\n"
     ]
    }
   ],
   "source": [
    "from imblearn.over_sampling import SMOTE\n",
    "\n",
    "sm = SMOTE(sampling_strategy=strategy, random_state=0)\n",
    "train_x_sm, train_Y_sm = sm.fit_sample(train_x, train_Y)\n",
    "print(pd.Series(train_Y_sm).value_counts())"
   ]
  },
  {
   "cell_type": "code",
   "execution_count": 326,
   "metadata": {},
   "outputs": [],
   "source": [
    "keys = list(strategy.keys())"
   ]
  },
  {
   "cell_type": "code",
   "execution_count": 327,
   "metadata": {
    "id": "h7mDeBIpKkNv",
    "outputId": "2704dc6d-e760-43aa-cf5b-a48739728819"
   },
   "outputs": [
    {
     "name": "stdout",
     "output_type": "stream",
     "text": [
      "normal             2927\n",
      "neptune            1791\n",
      "satan               157\n",
      "ipsweep             156\n",
      "portsweep           127\n",
      "smurf               115\n",
      "nmap                 64\n",
      "back                 41\n",
      "warezclient          38\n",
      "teardrop             38\n",
      "pod                   8\n",
      "guess_passwd          2\n",
      "buffer_overflow       1\n",
      "Name: attack_type, dtype: int64\n"
     ]
    }
   ],
   "source": [
    "from imblearn.under_sampling import RandomUnderSampler\n",
    "\n",
    "mean_class_size = int(pd.Series(train_Y).value_counts().sum()/23)\n",
    "i = 0\n",
    "for value in strategy.values():\n",
    "    strategy[keys[i]] = int(value/23)\n",
    "    i+=1\n",
    "rus = RandomUnderSampler(sampling_strategy=strategy, random_state=0, replacement=True)\n",
    "train_x_rus, train_Y_rus = rus.fit_sample(train_x_sm, train_Y_sm)\n",
    "print(pd.Series(train_Y_rus).value_counts())"
   ]
  },
  {
   "cell_type": "code",
   "execution_count": 328,
   "metadata": {
    "id": "1-PM4dnHKkNv",
    "outputId": "8ff7843e-8625-4daa-9fa3-e22351960961"
   },
   "outputs": [
    {
     "name": "stdout",
     "output_type": "stream",
     "text": [
      "[[  0 433   0 ...   0   0   0]\n",
      " [  0 356   0 ...   0   0   0]\n",
      " [  0   0   0 ...   0   0   0]\n",
      " ...\n",
      " [  0   5   0 ...   0   0   0]\n",
      " [  0   0   0 ...   0   0   0]\n",
      " [  0   0   0 ...   0   0   0]]\n",
      "0.2890604205483098\n"
     ]
    }
   ],
   "source": [
    "from sklearn.tree import DecisionTreeClassifier\n",
    "from sklearn.metrics import confusion_matrix, zero_one_loss\n",
    "\n",
    "classifier = DecisionTreeClassifier(random_state=1)\n",
    "classifier.fit(train_x_rus, train_Y_rus)\n",
    "\n",
    "pred_y = classifier.predict(test_x)\n",
    "\n",
    "results = confusion_matrix(test_Y, pred_y)\n",
    "error = zero_one_loss(test_Y, pred_y)\n",
    "\n",
    "print(results)\n",
    "print(error)"
   ]
  },
  {
   "cell_type": "code",
   "execution_count": 333,
   "metadata": {},
   "outputs": [
    {
     "name": "stdout",
     "output_type": "stream",
     "text": [
      "[[  0 202   0 ...   0   0   0]\n",
      " [  0 355   0 ...   0   0   0]\n",
      " [  0   1   4 ...   0   0   0]\n",
      " ...\n",
      " [  0   0   0 ...   0   0   0]\n",
      " [  0   0   0 ...   0   0   0]\n",
      " [  0   0   3 ...   0   0   0]]\n",
      "0.30170348682459414\n"
     ]
    }
   ],
   "source": [
    "from sklearn.neighbors import KNeighborsClassifier\n",
    "\n",
    "classifier = KNeighborsClassifier(n_neighbors=3, n_jobs=-1)\n",
    "classifier.fit(train_x_rus, train_Y_rus)\n",
    "\n",
    "pred_y = classifier.predict(test_x)\n",
    "\n",
    "results = confusion_matrix(test_Y, pred_y)\n",
    "error = zero_one_loss(test_Y, pred_y)\n",
    "\n",
    "print(results)\n",
    "print(error)"
   ]
  },
  {
   "cell_type": "code",
   "execution_count": 330,
   "metadata": {},
   "outputs": [
    {
     "name": "stdout",
     "output_type": "stream",
     "text": [
      "[[  0   1   0 ...   0   0   0]\n",
      " [  0 118   0 ...   0   0   0]\n",
      " [  0   0   0 ...   0   0   0]\n",
      " ...\n",
      " [  0   0   0 ...   0   0   0]\n",
      " [  0   0   0 ...   0   0   0]\n",
      " [  0   0   0 ...   0   0   0]]\n",
      "0.5594889539526218\n"
     ]
    }
   ],
   "source": [
    "# training a Naive Bayes classifier \n",
    "from sklearn.naive_bayes import GaussianNB \n",
    "\n",
    "gnb = GaussianNB().fit(train_x_rus, train_Y_rus) \n",
    "pred_y = gnb.predict(test_x)  \n",
    "  \n",
    "# creating a confusion matrix \n",
    "results = confusion_matrix(test_Y, pred_y)\n",
    "error = zero_one_loss(test_Y, pred_y)\n",
    "\n",
    "print(results)\n",
    "print(error)"
   ]
  },
  {
   "cell_type": "code",
   "execution_count": 382,
   "metadata": {},
   "outputs": [
    {
     "name": "stdout",
     "output_type": "stream",
     "text": [
      "--- 2.6480677127838135 seconds ---\n",
      "[[  0 484   0 ...   0   0   0]\n",
      " [  0 358   0 ...   0   0   0]\n",
      " [  0   2   0 ...   0   0   0]\n",
      " ...\n",
      " [  0   0   0 ...   0   0   0]\n",
      " [  0   0   0 ...   0   0   0]\n",
      " [  0   0   1 ...   0   0   0]]\n",
      "0.27686097063259696\n"
     ]
    }
   ],
   "source": [
    "# importing necessary libraries \n",
    "from sklearn import datasets \n",
    "from sklearn.metrics import confusion_matrix \n",
    "from sklearn.model_selection import train_test_split \n",
    "  \n",
    "# training a linear SVM classifier \n",
    "from sklearn.svm import SVC \n",
    "import time\n",
    "start_time = time.time()\n",
    "svm_model_linear = SVC(kernel = 'poly', probability=True, coef0=0.6, class_weight='balanced',gamma='auto').fit(train_x_rus, train_Y_rus) \n",
    "print(\"--- %s seconds ---\" % (time.time() - start_time))\n",
    "pred_y = svm_model_linear.predict(test_x) \n",
    "\n",
    "# creating a confusion matrix \n",
    "# cm = confusion_matrix(y_test, svm_predictions)\n",
    "results = confusion_matrix(test_Y, pred_y)\n",
    "error = zero_one_loss(test_Y, pred_y)\n",
    "\n",
    "print(results)\n",
    "print(error)"
   ]
  },
  {
   "cell_type": "code",
   "execution_count": null,
   "metadata": {},
   "outputs": [],
   "source": [
    "# importing necessary libraries \n",
    "from sklearn import datasets \n",
    "from sklearn.metrics import confusion_matrix \n",
    "from sklearn.model_selection import train_test_split \n",
    "  \n",
    "# training a linear SVM classifier \n",
    "from sklearn.svm import SVC \n",
    "import time\n",
    "start_time = time.time()\n",
    "svm_model_linear = SVC(kernel = 'poly', probability=True, coef0=0.6, class_weight='balanced',gamma='auto').fit(train_x_rus, train_Y_rus) \n",
    "# (time.time() - start_time)\n",
    "# print(\"--- %s seconds ---\" % (time.time() - start_time))\n",
    "pred_y = svm_model_linear.predict(test_x) \n",
    "\n",
    "# creating a confusion matrix \n",
    "# cm = confusion_matrix(y_test, svm_predictions)\n",
    "results = confusion_matrix(test_Y, pred_y)\n",
    "error = zero_one_loss(test_Y, pred_y)\n",
    "\n",
    "print(results)\n",
    "print(error)"
   ]
  },
  {
   "cell_type": "code",
   "execution_count": 400,
   "metadata": {},
   "outputs": [
    {
     "data": {
      "text/plain": [
       "0              mscan\n",
       "1             normal\n",
       "2             normal\n",
       "3             normal\n",
       "4        warezmaster\n",
       "            ...     \n",
       "22537         normal\n",
       "22538        neptune\n",
       "22539          mscan\n",
       "22540         normal\n",
       "22541         normal\n",
       "Name: attack_type, Length: 22542, dtype: object"
      ]
     },
     "execution_count": 400,
     "metadata": {},
     "output_type": "execute_result"
    }
   ],
   "source": [
    "test_Y"
   ]
  },
  {
   "cell_type": "code",
   "execution_count": 401,
   "metadata": {},
   "outputs": [],
   "source": [
    "lst = list(test_Y)\n",
    "test_Y22 = []\n",
    "for idx, i in enumerate(lst):\n",
    "    if i != 'normal':\n",
    "        test_Y22.append('not_normal')\n",
    "    else: \n",
    "        test_Y22.append(i)\n",
    "test_Y2 = pd.DataFrame(test_Y22)"
   ]
  },
  {
   "cell_type": "code",
   "execution_count": null,
   "metadata": {},
   "outputs": [],
   "source": [
    "# importing necessary libraries \n",
    "from sklearn import datasets \n",
    "from sklearn.metrics import confusion_matrix \n",
    "from sklearn.model_selection import train_test_split \n",
    "  \n",
    "# training a linear SVM classifier \n",
    "from sklearn.svm import SVC \n",
    "import time\n",
    "start_time = time.time()\n",
    "\n",
    "svm_model_linear = SVC(kernel = 'poly', probability=True, coef0=0.61, class_weight='balanced',gamma='auto').fit(train_x, train_Y2) \n",
    "\n",
    "pred_y = svm_model_linear.predict(test_x) \n",
    "results = confusion_matrix(test_Y2, pred_y)\n",
    "error = zero_one_loss(test_Y2, pred_y)\n",
    "\n",
    "print(results)\n",
    "print(error)"
   ]
  },
  {
   "cell_type": "code",
   "execution_count": null,
   "metadata": {},
   "outputs": [],
   "source": [
    "# importing necessary libraries \n",
    "from sklearn import datasets \n",
    "from sklearn.metrics import confusion_matrix \n",
    "from sklearn.model_selection import train_test_split \n",
    "  \n",
    "# training a linear SVM classifier \n",
    "from sklearn.svm import SVC \n",
    "import time\n",
    "start_time = time.time()\n",
    "\n",
    "svm_model_linear = SVC(kernel = 'linear', probability=True, coef0=0.61, class_weight='balanced',gamma='auto').fit(train_x, train_Y2) \n",
    "\n",
    "pred_y = svm_model_linear.predict(test_x) \n",
    "results = confusion_matrix(test_Y2, pred_y)\n",
    "error = zero_one_loss(test_Y2, pred_y)\n",
    "\n",
    "print(results)\n",
    "print(error)"
   ]
  },
  {
   "cell_type": "code",
   "execution_count": 341,
   "metadata": {},
   "outputs": [
    {
     "name": "stdout",
     "output_type": "stream",
     "text": [
      "[[  0 495   0 ...   0   0   0]\n",
      " [  0 257   0 ...   0   0   0]\n",
      " [  0   4   1 ...   0   0   0]\n",
      " ...\n",
      " [  0   1   0 ...   0   0   0]\n",
      " [  0   0   0 ...   0   0   0]\n",
      " [  0   5   0 ...   0   0   0]]\n",
      "0.3052524177091651\n"
     ]
    }
   ],
   "source": [
    "from sklearn.svm import LinearSVC\n",
    "\n",
    "classifier = LinearSVC(random_state=0)\n",
    "classifier.fit(train_x_rus, train_Y_rus)\n",
    "\n",
    "pred_y = classifier.predict(test_x)\n",
    "\n",
    "results = confusion_matrix(test_Y, pred_y)\n",
    "error = zero_one_loss(test_Y, pred_y)\n",
    "\n",
    "print(results)\n",
    "print(error)"
   ]
  }
 ],
 "metadata": {
  "accelerator": "TPU",
  "colab": {
   "name": "Lab_network.ipynb",
   "provenance": []
  },
  "kernelspec": {
   "display_name": "Python 3",
   "language": "python",
   "name": "python3"
  },
  "language_info": {
   "codemirror_mode": {
    "name": "ipython",
    "version": 3
   },
   "file_extension": ".py",
   "mimetype": "text/x-python",
   "name": "python",
   "nbconvert_exporter": "python",
   "pygments_lexer": "ipython3",
   "version": "3.9.1"
  }
 },
 "nbformat": 4,
 "nbformat_minor": 4
}
